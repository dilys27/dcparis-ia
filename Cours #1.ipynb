{
 "cells": [
  {
   "cell_type": "markdown",
   "metadata": {},
   "source": [
    "# RAPPEL"
   ]
  },
  {
   "cell_type": "code",
   "execution_count": 1,
   "metadata": {},
   "outputs": [
    {
     "name": "stdout",
     "output_type": "stream",
     "text": [
      "Tapez Q pour quitter : A\n",
      "Tapez Q pour quitter : V\n",
      "Tapez Q pour quitter : Q\n",
      "fin\n"
     ]
    }
   ],
   "source": [
    "while 1:\n",
    "    lettre = input(\"Tapez Q pour quitter : \")\n",
    "    if lettre == \"Q\":\n",
    "        print(\"fin\")\n",
    "        break"
   ]
  },
  {
   "cell_type": "code",
   "execution_count": 2,
   "metadata": {},
   "outputs": [],
   "source": [
    "def table(nb, max=10):\n",
    "    \"\"\"Fonction affichant la table de multiplication par np de 1*nb à 10*nb\"\"\"\n",
    "    i=0\n",
    "    \n",
    "    while i <10:\n",
    "        print(i+1, \"*\", nb, \"=\", (i+1)*nb)\n",
    "        i+=1"
   ]
  },
  {
   "cell_type": "code",
   "execution_count": 3,
   "metadata": {},
   "outputs": [
    {
     "name": "stdout",
     "output_type": "stream",
     "text": [
      "1 * 7 = 7\n",
      "2 * 7 = 14\n",
      "3 * 7 = 21\n",
      "4 * 7 = 28\n",
      "5 * 7 = 35\n",
      "6 * 7 = 42\n",
      "7 * 7 = 49\n",
      "8 * 7 = 56\n",
      "9 * 7 = 63\n",
      "10 * 7 = 70\n"
     ]
    }
   ],
   "source": [
    "table(7)"
   ]
  },
  {
   "cell_type": "markdown",
   "metadata": {},
   "source": [
    "# Exercices Algorithmique\n",
    "\n",
    "# Bases"
   ]
  },
  {
   "cell_type": "markdown",
   "metadata": {},
   "source": [
    "## 1.1 Simple échange"
   ]
  },
  {
   "cell_type": "code",
   "execution_count": 8,
   "metadata": {},
   "outputs": [],
   "source": [
    "def echange(a, b):\n",
    "    temp = a\n",
    "    a = b\n",
    "    b = temp\n",
    "    print(\"A = \", a, \" et \", \"B = \", b)"
   ]
  },
  {
   "cell_type": "code",
   "execution_count": 9,
   "metadata": {},
   "outputs": [
    {
     "name": "stdout",
     "output_type": "stream",
     "text": [
      "A =  8  et  B =  3\n"
     ]
    }
   ],
   "source": [
    "echange(3, 8)"
   ]
  },
  {
   "cell_type": "markdown",
   "metadata": {},
   "source": [
    "## 1.2 Le carré"
   ]
  },
  {
   "cell_type": "code",
   "execution_count": 18,
   "metadata": {},
   "outputs": [],
   "source": [
    "def carre():\n",
    "    nb = input(\"Tapez un nombre : \")\n",
    "    print(\"Le carré de \", nb, \" est \", int(nb) ** 2)"
   ]
  },
  {
   "cell_type": "code",
   "execution_count": 19,
   "metadata": {},
   "outputs": [
    {
     "name": "stdout",
     "output_type": "stream",
     "text": [
      "Tapez un nombre : 4\n",
      "Le carré de  4  est  16\n"
     ]
    }
   ],
   "source": [
    "carre()"
   ]
  },
  {
   "cell_type": "markdown",
   "metadata": {},
   "source": [
    "## 1.3 La condition"
   ]
  },
  {
   "cell_type": "code",
   "execution_count": 22,
   "metadata": {},
   "outputs": [],
   "source": [
    "def signe():\n",
    "    nb = input(\"Tapez un nombre : \")\n",
    "    if int(nb) > 0:\n",
    "        print(\"Positif !\")\n",
    "    elif int(nb) < 0:\n",
    "        print(\"Negatif !\")\n",
    "    else:\n",
    "        print(\"Zéro !\")"
   ]
  },
  {
   "cell_type": "code",
   "execution_count": 24,
   "metadata": {},
   "outputs": [
    {
     "name": "stdout",
     "output_type": "stream",
     "text": [
      "Tapez un nombre : 7\n",
      "Positif !\n",
      "Tapez un nombre : -5\n",
      "Negatif !\n",
      "Tapez un nombre : 0\n",
      "Zéro !\n"
     ]
    }
   ],
   "source": [
    "signe()\n",
    "signe()\n",
    "signe()"
   ]
  },
  {
   "cell_type": "markdown",
   "metadata": {},
   "source": [
    "## 1.4 Le produit"
   ]
  },
  {
   "cell_type": "code",
   "execution_count": 25,
   "metadata": {},
   "outputs": [],
   "source": [
    "def signeProd(a, b):\n",
    "    if a * b > 0:\n",
    "        print(\"Positif !\")\n",
    "    elif a * b < 0:\n",
    "        print(\"Negatif !\")\n",
    "    else:\n",
    "        print(\"Zéro !\")"
   ]
  },
  {
   "cell_type": "code",
   "execution_count": 26,
   "metadata": {},
   "outputs": [
    {
     "name": "stdout",
     "output_type": "stream",
     "text": [
      "Positif !\n",
      "Negatif !\n",
      "Zéro !\n"
     ]
    }
   ],
   "source": [
    "signeProd(3, 4)\n",
    "signeProd(-5, 2)\n",
    "signeProd(0, 6)"
   ]
  },
  {
   "cell_type": "markdown",
   "metadata": {},
   "source": [
    "## 1.5 Calcul"
   ]
  },
  {
   "cell_type": "code",
   "execution_count": 41,
   "metadata": {},
   "outputs": [],
   "source": [
    "def suite(nb):\n",
    "    i=1\n",
    "    while i<=10:\n",
    "        print(nb+i)\n",
    "        i+=1"
   ]
  },
  {
   "cell_type": "code",
   "execution_count": 42,
   "metadata": {},
   "outputs": [
    {
     "name": "stdout",
     "output_type": "stream",
     "text": [
      "18\n",
      "19\n",
      "20\n",
      "21\n",
      "22\n",
      "23\n",
      "24\n",
      "25\n",
      "26\n",
      "27\n"
     ]
    }
   ],
   "source": [
    "suite(17)"
   ]
  },
  {
   "cell_type": "markdown",
   "metadata": {},
   "source": [
    "## 1.6 Additivité"
   ]
  },
  {
   "cell_type": "code",
   "execution_count": 65,
   "metadata": {},
   "outputs": [],
   "source": [
    "def add(nb):\n",
    "    i = 0\n",
    "    somme = 0\n",
    "    while i < nb:\n",
    "        somme = somme + (nb-i)\n",
    "        i+=1\n",
    "    print(somme)"
   ]
  },
  {
   "cell_type": "code",
   "execution_count": 66,
   "metadata": {},
   "outputs": [
    {
     "name": "stdout",
     "output_type": "stream",
     "text": [
      "15\n"
     ]
    }
   ],
   "source": [
    "add(5)"
   ]
  },
  {
   "cell_type": "markdown",
   "metadata": {},
   "source": [
    "# RAPPEL (Suite)"
   ]
  },
  {
   "cell_type": "code",
   "execution_count": 67,
   "metadata": {},
   "outputs": [
    {
     "name": "stdout",
     "output_type": "stream",
     "text": [
      "[]\n",
      "[1, 2, 3, 4, 5]\n"
     ]
    }
   ],
   "source": [
    "ma_liste = [] # liste vide\n",
    "print(ma_liste)\n",
    "ma_liste = [1,2,3,4,5]\n",
    "print(ma_liste)"
   ]
  },
  {
   "cell_type": "code",
   "execution_count": 68,
   "metadata": {},
   "outputs": [
    {
     "name": "stdout",
     "output_type": "stream",
     "text": [
      "[1, 2, 'c', 3, 4, 5]\n"
     ]
    }
   ],
   "source": [
    "ma_liste.insert(2, 'c')\n",
    "print(ma_liste)"
   ]
  },
  {
   "cell_type": "code",
   "execution_count": 69,
   "metadata": {},
   "outputs": [
    {
     "data": {
      "text/plain": [
       "6"
      ]
     },
     "execution_count": 69,
     "metadata": {},
     "output_type": "execute_result"
    }
   ],
   "source": [
    "len(ma_liste)"
   ]
  },
  {
   "cell_type": "code",
   "execution_count": 70,
   "metadata": {},
   "outputs": [
    {
     "name": "stdout",
     "output_type": "stream",
     "text": [
      "1\n",
      "2\n",
      "c\n",
      "3\n",
      "4\n",
      "5\n"
     ]
    }
   ],
   "source": [
    "i = 0\n",
    "while i < len(ma_liste):\n",
    "    print(ma_liste[i])\n",
    "    i += 1"
   ]
  },
  {
   "cell_type": "code",
   "execution_count": 71,
   "metadata": {},
   "outputs": [
    {
     "name": "stdout",
     "output_type": "stream",
     "text": [
      "(0, 1)\n",
      "(1, 2)\n",
      "(2, 'c')\n",
      "(3, 3)\n",
      "(4, 4)\n",
      "(5, 5)\n"
     ]
    }
   ],
   "source": [
    "for elt in enumerate(ma_liste):\n",
    "    print(elt)"
   ]
  },
  {
   "cell_type": "code",
   "execution_count": 72,
   "metadata": {},
   "outputs": [
    {
     "data": {
      "text/plain": [
       "[0, 1, 4, 9, 16, 25]"
      ]
     },
     "execution_count": 72,
     "metadata": {},
     "output_type": "execute_result"
    }
   ],
   "source": [
    "liste = [0,1,2,3,4,5]\n",
    "[nb * nb for nb in liste]"
   ]
  },
  {
   "cell_type": "code",
   "execution_count": 73,
   "metadata": {},
   "outputs": [
    {
     "data": {
      "text/plain": [
       "{'nom': 'dupont', 'prenom': 'jean'}"
      ]
     },
     "execution_count": 73,
     "metadata": {},
     "output_type": "execute_result"
    }
   ],
   "source": [
    "a = {}\n",
    "a[\"nom\"] = \"dupont\"\n",
    "a[\"prenom\"] = \"jean\"\n",
    "\n",
    "a"
   ]
  },
  {
   "cell_type": "code",
   "execution_count": 74,
   "metadata": {},
   "outputs": [
    {
     "data": {
      "text/plain": [
       "'jean'"
      ]
     },
     "execution_count": 74,
     "metadata": {},
     "output_type": "execute_result"
    }
   ],
   "source": [
    "a.get('prenom')"
   ]
  },
  {
   "cell_type": "code",
   "execution_count": 89,
   "metadata": {},
   "outputs": [],
   "source": [
    "class Voiture :\n",
    "    \n",
    "    def __init__(self, x, y, z):\n",
    "        print(\"l'objet a bien été créé\")\n",
    "        self.roue = x\n",
    "        self.carrosserie = y\n",
    "        self.moteur = z\n",
    "    \n",
    "    def accelere(self):\n",
    "        print(\"vroum \", self.moteur)\n",
    "        \n",
    "# pass"
   ]
  },
  {
   "cell_type": "code",
   "execution_count": 90,
   "metadata": {},
   "outputs": [
    {
     "name": "stdout",
     "output_type": "stream",
     "text": [
      "l'objet a bien été créé\n",
      "l'objet a bien été créé\n",
      "vroum  82\n",
      "None\n",
      "vroum  150\n",
      "None\n"
     ]
    }
   ],
   "source": [
    "audi = Voiture(17, 'rouge', 150)\n",
    "renault = Voiture(15, 'bleu', 82)\n",
    "\n",
    "print(renault.accelere())\n",
    "print(audi.accelere())"
   ]
  },
  {
   "cell_type": "markdown",
   "metadata": {},
   "source": [
    "# Les tableaux"
   ]
  },
  {
   "cell_type": "markdown",
   "metadata": {},
   "source": [
    "## 2.1 La somme"
   ]
  },
  {
   "cell_type": "code",
   "execution_count": 109,
   "metadata": {},
   "outputs": [
    {
     "name": "stdout",
     "output_type": "stream",
     "text": [
      "19\n"
     ]
    }
   ],
   "source": [
    "tab1 = [1, 6, 2, 7, 3]\n",
    "\n",
    "def somme(tab):\n",
    "    somme = 0\n",
    "    for elt in tab:\n",
    "        somme += elt\n",
    "    print(somme)\n",
    "    \n",
    "somme(tab1)"
   ]
  },
  {
   "cell_type": "markdown",
   "metadata": {},
   "source": [
    "## 2.2 La somme : retour"
   ]
  },
  {
   "cell_type": "code",
   "execution_count": 110,
   "metadata": {},
   "outputs": [
    {
     "data": {
      "text/plain": [
       "[6, 16, 10, 11, 10]"
      ]
     },
     "execution_count": 110,
     "metadata": {},
     "output_type": "execute_result"
    }
   ],
   "source": [
    "tab2 = [5, 10, 8, 4, 7]\n",
    "\n",
    "def addTab(tab1, tab2):\n",
    "    i = 0\n",
    "    for elt in tab2:\n",
    "        tab1[i] += elt\n",
    "        i += 1\n",
    "    return tab1\n",
    "    \n",
    "tab3 = addTab(tab1, tab2)\n",
    "tab3"
   ]
  },
  {
   "cell_type": "markdown",
   "metadata": {},
   "source": [
    "# Objet Python\n",
    "\n",
    "## Le compte bancaire"
   ]
  },
  {
   "cell_type": "code",
   "execution_count": 103,
   "metadata": {},
   "outputs": [],
   "source": [
    "class CompteBancaire :\n",
    "        \n",
    "    def __init__(self, nom = \"Dupont\", solde = 1000):\n",
    "        self.nom = nom\n",
    "        self.solde = solde\n",
    "        \n",
    "    def depot(self, somme):\n",
    "        self.solde += somme\n",
    "        \n",
    "    def retrait(self, somme):\n",
    "        self.solde -= somme\n",
    "        \n",
    "    def affiche(self):\n",
    "        print(\"Le solde du compte bancaire de \", self.nom, \" est de \", self.solde, \" euros.\")"
   ]
  },
  {
   "cell_type": "code",
   "execution_count": 104,
   "metadata": {},
   "outputs": [
    {
     "name": "stdout",
     "output_type": "stream",
     "text": [
      "Le solde du compte bancaire de  Duchmol  est de  950  euros.\n"
     ]
    }
   ],
   "source": [
    "compte1 = CompteBancaire('Duchmol', 800)\n",
    "compte1.depot(350)\n",
    "compte1.retrait(200)\n",
    "compte1.affiche()"
   ]
  },
  {
   "cell_type": "code",
   "execution_count": 105,
   "metadata": {},
   "outputs": [
    {
     "name": "stdout",
     "output_type": "stream",
     "text": [
      "Le solde du compte bancaire de  Dupont  est de  1025  euros.\n"
     ]
    }
   ],
   "source": [
    "compte2 = CompteBancaire()\n",
    "compte2.depot(25)\n",
    "compte2.affiche()"
   ]
  },
  {
   "cell_type": "code",
   "execution_count": null,
   "metadata": {},
   "outputs": [],
   "source": []
  }
 ],
 "metadata": {
  "kernelspec": {
   "display_name": "Python 3",
   "language": "python",
   "name": "python3"
  },
  "language_info": {
   "codemirror_mode": {
    "name": "ipython",
    "version": 3
   },
   "file_extension": ".py",
   "mimetype": "text/x-python",
   "name": "python",
   "nbconvert_exporter": "python",
   "pygments_lexer": "ipython3",
   "version": "3.8.2"
  }
 },
 "nbformat": 4,
 "nbformat_minor": 4
}
